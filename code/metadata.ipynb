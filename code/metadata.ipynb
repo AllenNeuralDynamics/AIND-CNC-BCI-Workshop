{
 "cells": [
  {
   "cell_type": "code",
   "execution_count": 2,
   "id": "fd2a7047-9da6-4b55-a111-f1b159b3a5cf",
   "metadata": {
    "tags": []
   },
   "outputs": [],
   "source": [
    "import pandas as pd "
   ]
  },
  {
   "cell_type": "code",
   "execution_count": 12,
   "id": "4248ea4f-7365-4ed7-a8a3-ead4982710ae",
   "metadata": {
    "tags": []
   },
   "outputs": [
    {
     "name": "stdout",
     "output_type": "stream",
     "text": [
      "https://api.allenneuraldynamics.org/v1/metadata_index/data_assets\n"
     ]
    }
   ],
   "source": [
    "from aind_data_access_api.document_db import MetadataDbClient\n",
    "\n",
    "API_GATEWAY_HOST = \"api.allenneuraldynamics.org\"\n",
    "DATABASE = 'metadata_index'\n",
    "COLLECTION = 'data_assets'\n",
    "\n",
    "docdb_api_client = MetadataDbClient(\n",
    "   host=API_GATEWAY_HOST,\n",
    "   database=DATABASE,\n",
    "   collection=COLLECTION,\n",
    ")\n",
    "print(docdb_api_client._base_url)"
   ]
  },
  {
   "cell_type": "code",
   "execution_count": 28,
   "id": "d47c5345-9b3d-44cd-aeb4-a42444f10af8",
   "metadata": {
    "tags": []
   },
   "outputs": [],
   "source": [
    "aggregate = [\n",
    "  {\n",
    "    \"$match\": {\n",
    "      \"name\": {\n",
    "        \"$regex\": \"single-plane-ophys\",  # add .*processed or .*raw to narrow search \n",
    "        \"$options\": \"i\"\n",
    "      },\n",
    "      \"data_description.project_name\": \"Brain Computer Interface\",\n",
    "      \"session.session_type\": \"BCI single neuron stim\"\n",
    "    }\n",
    "  },\n",
    "  {\n",
    "    \"$project\": {\n",
    "      \"name\": 1,\n",
    "      \"subject_id\": \"$data_description.subject_id\",\n",
    "      \"session_type\": \"$session.session_type\", \n",
    "      \"genotype\": \"$subject.genotype\", \n",
    "      \"virus_injection_materials\": \"$procedures.subject_procedures.procedures.injection_materials.name\",\n",
    "      \"session_number\": {\n",
    "        \"$filter\": {\n",
    "          \"input\": \"$session.stimulus_epochs\",\n",
    "          \"as\": \"epoch\",\n",
    "          \"cond\": { \"$eq\": [\"$$epoch.stimulus_name\", \"single neuron BCI conditioning\"] }\n",
    "        }\n",
    "      }\n",
    "    }\n",
    "  },\n",
    "  {\n",
    "    \"$project\": {\n",
    "      \"name\": 1,\n",
    "      \"subject_id\": 1,\n",
    "      \"session_type\": 1,\n",
    "      \"genotype\": 1,\n",
    "      \"virus_injection_materials\": 1,\n",
    "      \"session_number\": { \"$arrayElemAt\": [\"$session_number.session_number\", 0] }\n",
    "    }\n",
    "  },\n",
    "  {'$unwind': {'path': '$virus_injection_materials', 'preserveNullAndEmptyArrays': True}}, \n",
    "  {'$unwind': {'path': '$virus_injection_materials', 'preserveNullAndEmptyArrays': True}}\n",
    "]\n",
    "\n",
    "records = docdb_api_client.aggregate_docdb_records(\n",
    "    pipeline = aggregate,\n",
    ")"
   ]
  },
  {
   "cell_type": "code",
   "execution_count": 31,
   "id": "b27921d6-6988-46b0-a763-d160b96b10cb",
   "metadata": {
    "tags": []
   },
   "outputs": [],
   "source": [
    "aggregate = [\n",
    "  {\n",
    "    \"$match\": {\n",
    "      \"name\": {\n",
    "        \"$regex\": \"single-plane-ophys\",\n",
    "        \"$options\": \"i\"\n",
    "      },\n",
    "      \"data_description.project_name\": \"Brain Computer Interface\",\n",
    "      \"session.session_type\": \"BCI single neuron stim\",\n",
    "      \"name\": {\n",
    "        \"$not\": {\n",
    "          \"$regex\": \"processed\",\n",
    "          \"$options\": \"i\"\n",
    "        }\n",
    "      }\n",
    "    }\n",
    "  },\n",
    "  {\n",
    "    \"$project\": {\n",
    "      \"name\": 1,\n",
    "      \"subject_id\": \"$data_description.subject_id\",\n",
    "      \"session_type\": \"$session.session_type\", \n",
    "      \"genotype\": \"$subject.genotype\", \n",
    "      \"virus_injection_materials\": \"$procedures.subject_procedures.procedures.injection_materials.name\",\n",
    "      \"session_number\": {\n",
    "        \"$filter\": {\n",
    "          \"input\": \"$session.stimulus_epochs\",\n",
    "          \"as\": \"epoch\",\n",
    "          \"cond\": { \"$eq\": [\"$$epoch.stimulus_name\", \"single neuron BCI conditioning\"] }\n",
    "        }\n",
    "      }\n",
    "    }\n",
    "  },\n",
    "  {\n",
    "    \"$project\": {\n",
    "      \"name\": 1,\n",
    "      \"subject_id\": 1,\n",
    "      \"session_type\": 1,\n",
    "      \"genotype\": 1,\n",
    "      \"virus_injection_materials\": 1,\n",
    "      \"session_number\": { \"$arrayElemAt\": [\"$session_number.session_number\", 0] }\n",
    "    }\n",
    "  },\n",
    "  {'$unwind': {'path': '$virus_injection_materials', 'preserveNullAndEmptyArrays': True}}, \n",
    "  {'$unwind': {'path': '$virus_injection_materials', 'preserveNullAndEmptyArrays': True}}\n",
    "]\n",
    "\n",
    "records = docdb_api_client.aggregate_docdb_records(\n",
    "    pipeline = aggregate,\n",
    ")"
   ]
  },
  {
   "cell_type": "code",
   "execution_count": 32,
   "id": "eec3f7de-45c5-43a4-ba2e-6b794563f62d",
   "metadata": {
    "tags": []
   },
   "outputs": [],
   "source": [
    "name = [] \n",
    "subject_id = [] \n",
    "session_type = [] \n",
    "genotype = []\n",
    "virus = []\n",
    "session_number = []\n",
    "\n",
    "for record in records: \n",
    "    name.append(record[\"name\"])\n",
    "    subject_id.append(record[\"subject_id\"])\n",
    "    session_type.append(record[\"session_type\"]) \n",
    "    genotype.append(record[\"genotype\"])\n",
    "    virus.append(record[\"virus_injection_materials\"][0])\n",
    "    session_number.append(record[\"session_number\"])\n",
    "    \n",
    "    \n",
    "bci_df = pd.DataFrame() \n",
    "bci_df[\"name\"] = name \n",
    "bci_df[\"subject_id\"] = subject_id\n",
    "bci_df[\"session_type\"] = session_type\n",
    "bci_df[\"genotype\"] = genotype\n",
    "bci_df[\"virus\"] = virus\n",
    "bci_df[\"session_number\"] = session_number"
   ]
  },
  {
   "cell_type": "code",
   "execution_count": 39,
   "id": "0e6ea2f1-444e-444e-84a3-4be1be53ff8a",
   "metadata": {
    "tags": []
   },
   "outputs": [],
   "source": [
    "# bci_df.to_csv('/data/metadata.csv') "
   ]
  }
 ],
 "metadata": {
  "kernelspec": {
   "display_name": "Python 3 (ipykernel)",
   "language": "python",
   "name": "python3"
  },
  "language_info": {
   "codemirror_mode": {
    "name": "ipython",
    "version": 3
   },
   "file_extension": ".py",
   "mimetype": "text/x-python",
   "name": "python",
   "nbconvert_exporter": "python",
   "pygments_lexer": "ipython3",
   "version": "3.10.12"
  }
 },
 "nbformat": 4,
 "nbformat_minor": 5
}
